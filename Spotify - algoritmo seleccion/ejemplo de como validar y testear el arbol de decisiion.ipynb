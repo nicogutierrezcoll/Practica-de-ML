{
 "cells": [
  {
   "cell_type": "markdown",
   "metadata": {},
   "source": [
    "En el contexto de trabajar con modelos de machine learning, incluidos los árboles de decisión, es fundamental dividir el conjunto de datos en conjuntos de entrenamiento y prueba (train-test split). Esto es esencial por varias razones:\n",
    "\n",
    "Evaluación del rendimiento: Al dividir los datos, puedes entrenar el modelo en un conjunto y evaluarlo en un conjunto separado que el modelo no ha visto antes. Esto te da una idea realista de cómo se desempeñará el modelo con datos nuevos y no vistos.\n",
    "\n",
    "Evitar el sobreajuste: Entrenar el modelo en todos los datos disponibles puede llevar a un sobreajuste, donde el modelo se ajusta demasiado a los datos de entrenamiento y no generaliza bien a nuevos datos. Esto se traduce en un rendimiento deficiente en el mundo real.\n",
    "\n",
    "Validación del modelo: La división en entrenamiento y prueba te permite ajustar y validar los hiperparámetros del modelo, mejorando su rendimiento.\n",
    "\n",
    "Proceso de División de Datos\n",
    "El proceso típico para la división de datos es el siguiente:\n",
    "\n",
    "División en Entrenamiento y Prueba:\n",
    "\n",
    "Usa un porcentaje del conjunto de datos para el entrenamiento (por ejemplo, 70-80%) y el resto para la prueba (20-30%).\n",
    "Puedes usar herramientas como train_test_split de Scikit-Learn en Python para esto."
   ]
  },
  {
   "cell_type": "code",
   "execution_count": null,
   "metadata": {},
   "outputs": [],
   "source": [
    "from sklearn.model_selection import train_test_split\n",
    "\n",
    "X_train, X_test, y_train, y_test = train_test_split(X, y, test_size=0.2, random_state=42)\n"
   ]
  },
  {
   "cell_type": "markdown",
   "metadata": {},
   "source": [
    "Entrenamiento del Modelo:\n",
    "\n",
    "Entrena el modelo en el conjunto de entrenamiento"
   ]
  },
  {
   "cell_type": "code",
   "execution_count": null,
   "metadata": {},
   "outputs": [],
   "source": [
    "from sklearn.tree import DecisionTreeClassifier\n",
    "\n",
    "model = DecisionTreeClassifier()\n",
    "model.fit(X_train, y_train)\n"
   ]
  },
  {
   "cell_type": "markdown",
   "metadata": {},
   "source": [
    "Evaluación del Modelo:\n",
    "\n",
    "Evalúa el rendimiento del modelo en el conjunto de prueba"
   ]
  },
  {
   "cell_type": "code",
   "execution_count": null,
   "metadata": {},
   "outputs": [],
   "source": [
    "from sklearn.metrics import accuracy_score\n",
    "\n",
    "y_pred = model.predict(X_test)\n",
    "accuracy = accuracy_score(y_test, y_pred)\n",
    "print(f'Accuracy: {accuracy}')\n"
   ]
  },
  {
   "cell_type": "markdown",
   "metadata": {},
   "source": [
    "Validación Cruzada\n",
    "Además de la división básica de entrenamiento y prueba, también puedes considerar el uso de validación cruzada (cross-validation), que es una técnica más robusta para evaluar el rendimiento del modelo. La validación cruzada implica dividir los datos en múltiples subconjuntos y entrenar el modelo múltiples veces, cada vez utilizando un subconjunto diferente para la prueba y los otros para el entrenamiento."
   ]
  },
  {
   "cell_type": "code",
   "execution_count": null,
   "metadata": {},
   "outputs": [],
   "source": [
    "from sklearn.model_selection import cross_val_score\n",
    "\n",
    "scores = cross_val_score(model, X, y, cv=5)\n",
    "print(f'Cross-validation scores: {scores}')\n",
    "print(f'Mean cross-validation score: {scores.mean()}')\n"
   ]
  },
  {
   "cell_type": "markdown",
   "metadata": {},
   "source": [
    "Resumen\n",
    "División en conjunto de entrenamiento y prueba: Evalúa el rendimiento realista del modelo y evita el sobreajuste.\n",
    "Validación cruzada: Proporciona una evaluación más robusta del modelo al utilizar múltiples divisiones de datos.\n",
    "Uso de todo el dataset: No se recomienda para entrenamiento ya que no permite evaluar el modelo adecuadamente y puede llevar al sobreajuste.\n",
    "En conclusión, es crucial dividir los datos en conjuntos de entrenamiento y prueba para desarrollar y evaluar modelos de machine learning de manera efectiva, incluidos los árboles de decisión."
   ]
  }
 ],
 "metadata": {
  "language_info": {
   "name": "python"
  }
 },
 "nbformat": 4,
 "nbformat_minor": 2
}
